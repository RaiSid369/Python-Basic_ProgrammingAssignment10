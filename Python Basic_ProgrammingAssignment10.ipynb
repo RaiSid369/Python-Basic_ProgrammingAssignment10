{
 "cells": [
  {
   "cell_type": "code",
   "execution_count": null,
   "id": "03cb0c5d",
   "metadata": {},
   "outputs": [],
   "source": [
    "# Que 1. Write a Python program to find sum of elementsin list?"
   ]
  },
  {
   "cell_type": "code",
   "execution_count": 1,
   "id": "e99f53a5",
   "metadata": {},
   "outputs": [
    {
     "name": "stdout",
     "output_type": "stream",
     "text": [
      "The sum of all numeric elements is: 15\n"
     ]
    }
   ],
   "source": [
    "l1 = [1,2,3,4,5,'aa']\n",
    "sum = 0\n",
    "for i in l1:\n",
    "    if type(i) == int or type(i) == float:\n",
    "        sum = sum+i\n",
    "print(\"The sum of all numeric elements is:\", sum)"
   ]
  },
  {
   "cell_type": "code",
   "execution_count": null,
   "id": "c82b93d1",
   "metadata": {},
   "outputs": [],
   "source": []
  },
  {
   "cell_type": "code",
   "execution_count": null,
   "id": "06475aa0",
   "metadata": {},
   "outputs": [],
   "source": [
    "# Que 2. Write a Python program to  Multiply all numbers in the list?"
   ]
  },
  {
   "cell_type": "code",
   "execution_count": 2,
   "id": "9999bb0c",
   "metadata": {},
   "outputs": [
    {
     "name": "stdout",
     "output_type": "stream",
     "text": [
      "The multiplication of all numeric elements is: 120\n"
     ]
    }
   ],
   "source": [
    "l1 = [1,2,3,4,5,'aa']\n",
    "multiple = 1\n",
    "for i in l1:\n",
    "    if type(i) == int or type(i) == float:\n",
    "        multiple = multiple*i\n",
    "print(\"The multiplication of all numeric elements is:\", multiple)"
   ]
  },
  {
   "cell_type": "code",
   "execution_count": null,
   "id": "23f9aa52",
   "metadata": {},
   "outputs": [],
   "source": []
  },
  {
   "cell_type": "code",
   "execution_count": null,
   "id": "aa0e760b",
   "metadata": {},
   "outputs": [],
   "source": [
    "# Que 3. Write a Python program to find smallest numberin a list?"
   ]
  },
  {
   "cell_type": "code",
   "execution_count": 3,
   "id": "fec90702",
   "metadata": {},
   "outputs": [
    {
     "name": "stdout",
     "output_type": "stream",
     "text": [
      "The smallest number in the list is: -100\n"
     ]
    }
   ],
   "source": [
    "l1 = [1,2,3,4,15,-45,'aa', 'bb', 99, 84, -100]\n",
    "l2 = []\n",
    "for i in l1:\n",
    "    if type(i) == int or type(i) == float:\n",
    "        l2.append(i)\n",
    "l2.sort()\n",
    "print(\"The smallest number in the list is:\", l2[0])"
   ]
  },
  {
   "cell_type": "code",
   "execution_count": null,
   "id": "aca6c305",
   "metadata": {},
   "outputs": [],
   "source": []
  },
  {
   "cell_type": "code",
   "execution_count": null,
   "id": "3ed095b3",
   "metadata": {},
   "outputs": [],
   "source": [
    "# Que 4. Write a Python program to find largest number ina list?"
   ]
  },
  {
   "cell_type": "code",
   "execution_count": 4,
   "id": "ae9de82b",
   "metadata": {},
   "outputs": [
    {
     "name": "stdout",
     "output_type": "stream",
     "text": [
      "The largest number in the list is: 99\n"
     ]
    }
   ],
   "source": [
    "l1 = [1,2,3,4,15,-45,'aa', 'bb', 99, 84, -100]\n",
    "\n",
    "l2 = []\n",
    "for i in l1:\n",
    "    if type(i) == int or type(i) == float:\n",
    "        l2.append(i)\n",
    "l2.sort(reverse = True)\n",
    "print(\"The largest number in the list is:\", l2[0])"
   ]
  },
  {
   "cell_type": "code",
   "execution_count": null,
   "id": "792d0c81",
   "metadata": {},
   "outputs": [],
   "source": []
  },
  {
   "cell_type": "code",
   "execution_count": null,
   "id": "f2bba93a",
   "metadata": {},
   "outputs": [],
   "source": [
    "# Que 5. Write a Python program to find second largestnumber in a list?"
   ]
  },
  {
   "cell_type": "code",
   "execution_count": 5,
   "id": "79a02547",
   "metadata": {},
   "outputs": [
    {
     "name": "stdout",
     "output_type": "stream",
     "text": [
      "The second largest number in the list is: 84\n"
     ]
    }
   ],
   "source": [
    "l1 = [1,2,3,4,15,-45,'aa', 'bb', 99, 84, -100]\n",
    "\n",
    "l2 = []\n",
    "for i in l1:\n",
    "    if type(i) == int or type(i) == float:\n",
    "        l2.append(i)\n",
    "l2.sort(reverse = True)\n",
    "print(\"The second largest number in the list is:\", l2[1])"
   ]
  },
  {
   "cell_type": "code",
   "execution_count": null,
   "id": "63e58878",
   "metadata": {},
   "outputs": [],
   "source": []
  },
  {
   "cell_type": "code",
   "execution_count": null,
   "id": "c91a4929",
   "metadata": {},
   "outputs": [],
   "source": [
    "# Que 6. Write a Python program to find N largest elements from a list?"
   ]
  },
  {
   "cell_type": "code",
   "execution_count": 6,
   "id": "7696d27e",
   "metadata": {},
   "outputs": [
    {
     "name": "stdout",
     "output_type": "stream",
     "text": [
      "Provide the nth term =5\n",
      "The nth largest number in the list is: 3\n"
     ]
    }
   ],
   "source": [
    "n = int(input(\"Provide the nth term =\"))\n",
    "l1 = [1,2,3,4,15,-45,'aa', 'bb', 99, 84, -100]\n",
    "l2 = []\n",
    "for i in l1:\n",
    "    if type(i) == int or type(i) == float:\n",
    "        l2.append(i)\n",
    "l2.sort(reverse = True)\n",
    "print(\"The nth largest number in the list is:\", l2[n-1])"
   ]
  },
  {
   "cell_type": "code",
   "execution_count": null,
   "id": "ca8960e7",
   "metadata": {},
   "outputs": [],
   "source": []
  },
  {
   "cell_type": "code",
   "execution_count": null,
   "id": "bab9cf16",
   "metadata": {},
   "outputs": [],
   "source": [
    "# Que 7. Write a Python program to print even numbers in a list?"
   ]
  },
  {
   "cell_type": "code",
   "execution_count": 7,
   "id": "8896fea1",
   "metadata": {},
   "outputs": [
    {
     "name": "stdout",
     "output_type": "stream",
     "text": [
      "[2, 4, 84]\n"
     ]
    }
   ],
   "source": [
    "l1 = [1,2,3,4,15,-45,'aa', 'bb', 99, 84, -100]\n",
    "l2 = []\n",
    "for i in l1:\n",
    "    if (type(i)==int or type(i)==float) and i>0:\n",
    "        if i%2 == 0:\n",
    "            l2.append(i)\n",
    "print(l2)"
   ]
  },
  {
   "cell_type": "code",
   "execution_count": null,
   "id": "151190c0",
   "metadata": {},
   "outputs": [],
   "source": []
  },
  {
   "cell_type": "code",
   "execution_count": null,
   "id": "151c02ac",
   "metadata": {},
   "outputs": [],
   "source": [
    "# Que 8. Write a Python program to print odd numbers in a List?"
   ]
  },
  {
   "cell_type": "code",
   "execution_count": 8,
   "id": "0fa04bb9",
   "metadata": {},
   "outputs": [
    {
     "name": "stdout",
     "output_type": "stream",
     "text": [
      "[1, 3, 15, 99]\n"
     ]
    }
   ],
   "source": [
    "l1 = [1,2,3,4,15,-45,'aa', 'bb', 99, 84, -100]\n",
    "l2 = []\n",
    "for i in l1:\n",
    "    if (type(i)==int or type(i)==float) and i>0:\n",
    "        if i%2 != 0:\n",
    "            l2.append(i)\n",
    "print(l2)"
   ]
  },
  {
   "cell_type": "code",
   "execution_count": null,
   "id": "39269adc",
   "metadata": {},
   "outputs": [],
   "source": []
  },
  {
   "cell_type": "code",
   "execution_count": null,
   "id": "7fbc879d",
   "metadata": {},
   "outputs": [],
   "source": [
    "# Que 9. Write a Python program to Remove empty List from List?"
   ]
  },
  {
   "cell_type": "code",
   "execution_count": 9,
   "id": "4ef47deb",
   "metadata": {},
   "outputs": [
    {
     "name": "stdout",
     "output_type": "stream",
     "text": [
      "[1, 2, 3, 4, 5]\n"
     ]
    }
   ],
   "source": [
    "l1 = [1,[],2,[],3,[],4,[],5,[]]\n",
    "\n",
    "for j in l1:\n",
    "    if j == []:\n",
    "        l1.remove([])\n",
    "print(l1)"
   ]
  },
  {
   "cell_type": "code",
   "execution_count": null,
   "id": "e80b10c6",
   "metadata": {},
   "outputs": [],
   "source": []
  },
  {
   "cell_type": "code",
   "execution_count": null,
   "id": "287f84a7",
   "metadata": {},
   "outputs": [],
   "source": [
    "# Que 10. Write a Python program to Cloning or Copying a list?"
   ]
  },
  {
   "cell_type": "code",
   "execution_count": 10,
   "id": "82f75b0d",
   "metadata": {},
   "outputs": [
    {
     "name": "stdout",
     "output_type": "stream",
     "text": [
      "Original List:  [1, 2, 3, 4, 5, 'aa', 'bb']\n",
      "New List:  [1, 2, 3, 4, 5, 'aa', 'bb']\n"
     ]
    }
   ],
   "source": [
    "list1 = [1, 2, 3, 4, 5,'aa','bb']\n",
    "copied_list = list1.copy()\n",
    "print('Original List: ', list1)\n",
    "print('New List: ', copied_list)"
   ]
  },
  {
   "cell_type": "code",
   "execution_count": null,
   "id": "68744a87",
   "metadata": {},
   "outputs": [],
   "source": []
  },
  {
   "cell_type": "code",
   "execution_count": null,
   "id": "d65fc6a3",
   "metadata": {},
   "outputs": [],
   "source": [
    "# Que 11. Write a Python program to Count occurrences of an element in a list?"
   ]
  },
  {
   "cell_type": "code",
   "execution_count": 11,
   "id": "591bb9ab",
   "metadata": {},
   "outputs": [
    {
     "name": "stdout",
     "output_type": "stream",
     "text": [
      "The count is: 2\n"
     ]
    }
   ],
   "source": [
    "l5 = [1,2,3,4,5,'aa','bb','aa']\n",
    "element_to_be_counted = 'aa'\n",
    "print('The count is:', l5.count(element_to_be_counted))"
   ]
  }
 ],
 "metadata": {
  "kernelspec": {
   "display_name": "Python 3 (ipykernel)",
   "language": "python",
   "name": "python3"
  },
  "language_info": {
   "codemirror_mode": {
    "name": "ipython",
    "version": 3
   },
   "file_extension": ".py",
   "mimetype": "text/x-python",
   "name": "python",
   "nbconvert_exporter": "python",
   "pygments_lexer": "ipython3",
   "version": "3.9.12"
  }
 },
 "nbformat": 4,
 "nbformat_minor": 5
}
